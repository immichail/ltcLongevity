{
 "cells": [
  {
   "cell_type": "code",
   "execution_count": 32,
   "metadata": {},
   "outputs": [],
   "source": [
    "import pandas as pd\n",
    "from tqdm import tqdm\n",
    "from collections import Counter\n",
    "import numpy as np\n",
    "import pickle as pkl\n",
    "import random\n",
    "from dateutil.parser import parse as parseDate\n",
    "from datetime import datetime, timedelta\n",
    "import matplotlib.pyplot as plt\n",
    "import logging\n",
    "import os\n",
    "\n",
    "DATE_ATTENUATION_PARAM = 0.9"
   ]
  },
  {
   "cell_type": "code",
   "execution_count": 3,
   "metadata": {},
   "outputs": [],
   "source": [
    "import pymongo\n",
    "\n",
    "db = pymongo.MongoClient()['ltcLongevity']"
   ]
  },
  {
   "cell_type": "code",
   "execution_count": 4,
   "metadata": {},
   "outputs": [],
   "source": [
    "df = pd.DataFrame(db.attends.find({}, {'userId': 1, 'd1LevelId': 1, 'd2LevelId': 1, 'd3LevelId': 1, 'date': 1}))"
   ]
  },
  {
   "cell_type": "code",
   "execution_count": 7,
   "metadata": {},
   "outputs": [],
   "source": [
    "df = df[['userId', 'd1LevelId', 'd2LevelId', 'd3LevelId', 'date']]"
   ]
  },
  {
   "cell_type": "code",
   "execution_count": 10,
   "metadata": {},
   "outputs": [],
   "source": [
    "df = df[df['d1LevelId'].notna()]\n",
    "df = df[df['d2LevelId'].notna()]\n",
    "df = df[df['d3LevelId'].notna()]"
   ]
  },
  {
   "cell_type": "code",
   "execution_count": 11,
   "metadata": {},
   "outputs": [],
   "source": [
    "df['userId'] = df['userId'].astype('int')\n",
    "df['d1LevelId'] = df['d1LevelId'].astype('int')\n",
    "df['d2LevelId'] = df['d2LevelId'].astype('int')\n",
    "df['d3LevelId'] = df['d3LevelId'].astype('int')"
   ]
  },
  {
   "cell_type": "code",
   "execution_count": 22,
   "metadata": {},
   "outputs": [],
   "source": [
    "d2Id2Idx = {k: i for i, k in enumerate(df['d2LevelId'].unique())}\n",
    "d3Id2Idx = {k: i for i, k in enumerate(df['d3LevelId'].unique())}"
   ]
  },
  {
   "cell_type": "code",
   "execution_count": 18,
   "metadata": {},
   "outputs": [],
   "source": [
    "notNullUsers = df.groupby('userId').agg({'date': 'count'}).reset_index()\n",
    "notNullUsers = set(notNullUsers[notNullUsers['date'] > 10]['userId'])\n",
    "dfNN = df[df['userId'].isin(notNullUsers)]"
   ]
  },
  {
   "cell_type": "code",
   "execution_count": 5,
   "metadata": {},
   "outputs": [
    {
     "name": "stderr",
     "output_type": "stream",
     "text": [
      "100%|██████████| 453/453 [00:44<00:00, 10.18it/s]\n"
     ]
    }
   ],
   "source": [
    "# d3LevelCounts = {}\n",
    "\n",
    "# for k in tqdm(dfNN['d3LevelId'].unique()):\n",
    "#     userIds = dfNN[dfNN['d3LevelId'] == k]['userId'].unique()\n",
    "    \n",
    "#     dfNNItem = dfNN[(dfNN['userId'].isin(userIds))&(dfNN['d3LevelId'] != k)]\n",
    "    \n",
    "#     d3LevelCounts[k] = dict(Counter(dfNNItem['d3LevelId']))\n",
    "    \n",
    "# for k in d3LevelCounts:\n",
    "#     s = sum(d3LevelCounts[k])\n",
    "#     d3LevelCounts[k] = {kk : v / s for kk, v in d3LevelCounts[k].items()}\n",
    "    \n",
    "# for k in d3LevelCounts:\n",
    "    \n",
    "#     vec = np.zeros(max(d3LevelCounts) + 1)\n",
    "#     for kk, v in d3LevelCounts[k].items():\n",
    "#         vec[kk] = v\n",
    "        \n",
    "#     d3LevelCounts[k] = vec"
   ]
  },
  {
   "cell_type": "code",
   "execution_count": 19,
   "metadata": {},
   "outputs": [],
   "source": [
    "dfNN = dfNN.sort_values('date')"
   ]
  },
  {
   "cell_type": "code",
   "execution_count": 23,
   "metadata": {},
   "outputs": [
    {
     "name": "stderr",
     "output_type": "stream",
     "text": [
      "100%|██████████| 48379/48379 [09:27<00:00, 85.27it/s] \n"
     ]
    }
   ],
   "source": [
    "d3LevelCounts = np.zeros((len(d3Id2Idx), len(d3Id2Idx)))\n",
    "\n",
    "for userId in tqdm(dfNN['userId'].unique()):\n",
    "    \n",
    "    acts = list(dfNN[dfNN['userId'] == userId]['d3LevelId'])\n",
    "    \n",
    "    for a1 in range(len(acts)):\n",
    "        for a2 in range(a1 + 1, len(acts)):\n",
    "            d3LevelCounts[d3Id2Idx[acts[a1]], d3Id2Idx[acts[a2]]] += 1"
   ]
  },
  {
   "cell_type": "code",
   "execution_count": 24,
   "metadata": {},
   "outputs": [],
   "source": [
    "d3LevelCounts = {k: d3LevelCounts[k, :] for k in range(d3LevelCounts.shape[0])}"
   ]
  },
  {
   "cell_type": "code",
   "execution_count": 25,
   "metadata": {},
   "outputs": [],
   "source": [
    "d3LevelCounts = {k : v / v.sum() for k, v in d3LevelCounts.items()}"
   ]
  },
  {
   "cell_type": "code",
   "execution_count": 26,
   "metadata": {},
   "outputs": [],
   "source": [
    "probTotal = np.zeros(len(d3Id2Idx))\n",
    "\n",
    "for k, v in dict(df.groupby('d3LevelId').agg({'date': 'count'})['date']).items():\n",
    "    probTotal[d3Id2Idx[k]] = v\n",
    "    \n",
    "probTotal /= np.sum(probTotal)"
   ]
  },
  {
   "cell_type": "code",
   "execution_count": 31,
   "metadata": {},
   "outputs": [],
   "source": [
    "pkl.dump(d3Id2Idx, open('./model/d3Id2Idx.pkl', 'wb'))\n",
    "pkl.dump(d3LevelCounts, open('./model/d3LevelCounts.pkl', 'wb'))\n",
    "pkl.dump(probTotal, open('./model/probTotal.pkl', 'wb'))"
   ]
  },
  {
   "cell_type": "code",
   "execution_count": 12,
   "metadata": {},
   "outputs": [],
   "source": [
    "# userId = 101387513\n",
    "# n = 5\n",
    "# randomChoice = True\n",
    "# dateAttenuation = False\n",
    "\n",
    "\n",
    "# attends = getAttends(userId)\n",
    "\n",
    "# for a in attends:\n",
    "#     a['date'] = parseDate(a['date'])\n",
    "\n",
    "# attends = sorted(attends, key = lambda x: x['date'])[::-1]\n",
    "\n",
    "# probVec = np.array([d3LevelCounts[a['d3LevelId']] for a in attends])\n",
    "\n",
    "# if dateAttenuation:\n",
    "#     dateMult = []\n",
    "\n",
    "#     m = 1\n",
    "#     for i in range(0, len(attends)):\n",
    "#         dateMult.append(m)\n",
    "#         m *= DATE_ATTENUATION_PARAM\n",
    "# else:\n",
    "#     dateMult = np.ones(len(attends))\n",
    "\n",
    "# probVec = probVec.transpose().dot(dateMult)\n",
    "# probVec /= np.sum(probVec)\n",
    "\n",
    "# probDiff = (probVec - probTotal)\n",
    "# probDiff[np.where(probDiff > 0)] = 0\n",
    "# probDiff = -probDiff\n",
    "# probDiff /= probDiff.sum()\n",
    "\n",
    "# def getSetProb(arr):\n",
    "    \n",
    "#     p = 1.0\n",
    "\n",
    "#     for i in range(len(arr)):\n",
    "#         for j in range(i + 1, len(arr)):\n",
    "#             p *= d3LevelCounts[arr[i]][arr[j]]\n",
    "            \n",
    "#     return p\n",
    "\n",
    "# if randomChoice:\n",
    "#     reses = [\n",
    "#         np.random.choice(list(range(probVec.shape[0])), n, p = probVec, replace = False)\n",
    "#         for i in range(10)\n",
    "#     ]\n",
    "    \n",
    "#     reses = [(r, getSetProb(r)) for r in reses]\n",
    "        \n",
    "#     res = sorted(reses, key = lambda x: x[1])[0][0]\n",
    "# else:\n",
    "#     res = np.argsort(probDiff)[::-1][:n]"
   ]
  },
  {
   "cell_type": "code",
   "execution_count": 29,
   "metadata": {},
   "outputs": [],
   "source": [
    "dfm = pd.DataFrame(db.usersV2.find({}, {'userId': 1, 'gender': 1, 'dateBirth': 1, '_id': False}))\n",
    "dfm['age'] = ((datetime(year = 2023, month = 1, day = 1) - dfm['dateBirth'])).apply(lambda x: x.days / 365.25)"
   ]
  },
  {
   "cell_type": "code",
   "execution_count": 95,
   "metadata": {},
   "outputs": [
    {
     "name": "stderr",
     "output_type": "stream",
     "text": [
      "100%|██████████| 52338/52338 [00:00<00:00, 392165.82it/s]\n"
     ]
    }
   ],
   "source": [
    "def ageClassFunction(user = None, userId = None):\n",
    "    if user is None:\n",
    "        user = db.usersV2.find_one({'userId': userId})\n",
    "    \n",
    "    age = (datetime.now() - user['dateBirth']).days / 365.25\n",
    "    if age < 60:\n",
    "        return '<60'\n",
    "    if age > 90:\n",
    "        return '>90'\n",
    "    return '%d-%d'%(age // 10  * 10, (age // 10 + 1)  * 10)\n",
    "        \n",
    "\n",
    "class ModelMeta:\n",
    "    \n",
    "    def __init__(self, db = None, d3Id2Idx = None, modelPath = None):\n",
    "        \n",
    "        if (db is None):\n",
    "            raise Exception('Model need DB connection to work')\n",
    "            \n",
    "        self.db = db\n",
    "        self.d3Id2Idx = d3Id2Idx\n",
    "        \n",
    "        if modelPath is not None:\n",
    "            self.d3Id2Idx = pkl.load(open(f'{modelPath}/d3Id2Idx.pkl', 'rb'))\n",
    "            self.classFunction = pkl.load(open(f'{modelPath}/classFunction.pkl', 'rb'))\n",
    "            self.dictClasses = pkl.load(open(f'{modelPath}/dictClasses.pkl', 'rb'))\n",
    "        \n",
    "        return None\n",
    "        \n",
    "    def fit(self, dfm, classFunction):\n",
    "        \n",
    "        self.classFunction = classFunction\n",
    "        \n",
    "        self.classes = set()\n",
    "\n",
    "        self.userClasses = {}\n",
    "        users = list(self.db.usersV2.find({}))\n",
    "        \n",
    "        for user in tqdm(users):\n",
    "            cls = self.classFunction(user = user)\n",
    "            self.classes.add(cls)\n",
    "            self.userClasses[user['userId']] = cls\n",
    "            \n",
    "        dfClasses = pd.DataFrame([{'userId': k, 'cls': v} for k, v in self.userClasses.items()])\n",
    "        dfClasses = df.merge(dfClasses, on = 'userId', how = 'inner')\n",
    "        dictClasses = dfClasses.groupby('cls').agg({'d3LevelId': list}).to_dict(orient = 'index')\n",
    "        \n",
    "        for k in dictClasses:\n",
    "            vec = np.zeros(len(self.d3Id2Idx))\n",
    "\n",
    "            for i in dictClasses[k]['d3LevelId']:\n",
    "                vec[self.d3Id2Idx[i]] += 1\n",
    "\n",
    "            dictClasses[k] = vec / np.sum(vec)\n",
    "            \n",
    "        self.dictClasses = dictClasses\n",
    "        \n",
    "        return None\n",
    "    \n",
    "    def save(self, modelPath):\n",
    "        try:\n",
    "            os.mkdir(modelPath)\n",
    "        except:\n",
    "            logging.exception('Unable to create folder for model')\n",
    "            \n",
    "        pkl.dump(self.classFunction, open(f'{modelPath}/classFunction.pkl', 'wb'))\n",
    "        pkl.dump(self.dictClasses, open(f'{modelPath}/dictClasses.pkl', 'wb'))\n",
    "        pkl.dump(self.d3Id2Idx, open(f'{modelPath}/d3Id2Idx.pkl', 'wb'))\n",
    "    \n",
    "    def __call__(self, userId: str):\n",
    "        cls = self.classFunction(userId = userId)\n",
    "        return self.dictClasses[cls]\n",
    "    \n",
    "mm = ModelMeta(db, d3Id2Idx)\n",
    "mm.fit(dfm, ageClassFunction)"
   ]
  },
  {
   "cell_type": "code",
   "execution_count": 96,
   "metadata": {},
   "outputs": [
    {
     "name": "stderr",
     "output_type": "stream",
     "text": [
      "ERROR:root:Unable to create folder for model\n",
      "Traceback (most recent call last):\n",
      "  File \"/tmp/ipykernel_667078/1344200430.py\", line 62, in save\n",
      "    os.mkdir(modelPath)\n",
      "FileExistsError: [Errno 17] File exists: './model/modelAge'\n"
     ]
    }
   ],
   "source": [
    "mm.save('./model/modelAge')"
   ]
  },
  {
   "cell_type": "code",
   "execution_count": 39,
   "metadata": {},
   "outputs": [],
   "source": [
    "def multiplyProbVecs(v1, v2):\n",
    "    vm = v2 / (1 - v2)\n",
    "    v1 *= vm\n",
    "    v1 = v1 / v1.sum()\n",
    "    return v1"
   ]
  },
  {
   "cell_type": "code",
   "execution_count": 93,
   "metadata": {},
   "outputs": [],
   "source": [
    "def getAttends(userId: str):\n",
    "    \n",
    "    recs = df[df['userId'] == userId].to_dict(orient = 'records')\n",
    "    \n",
    "    return [\n",
    "        {'d3LevelId': r['d3LevelId'], 'date': r['date']} for r in recs\n",
    "    ]\n",
    "\n",
    "class ModelMain():\n",
    "    \n",
    "    def __init__(self, d3LevelCounts = None, probTotal = None, d3Id2Idx = None, modelPath = None):\n",
    "        self.d3LevelCounts = d3LevelCounts\n",
    "        self.d3Id2Idx = d3Id2Idx\n",
    "        self.probTotal = probTotal\n",
    "        \n",
    "        if modelPath is not None:\n",
    "            self.d3LevelCounts = pkl.load(open(f'{modelPath}/d3LevelCounts.pkl', 'rb'))\n",
    "            self.probTotal = pkl.load(open(f'{modelPath}/probTotal.pkl', 'rb'))\n",
    "            self.d3Id2Idx = pkl.load(open(f'{modelPath}/d3Id2Idx.pkl', 'rb'))\n",
    "        \n",
    "    def recomendForUser(\n",
    "        self,\n",
    "        userId: int, \n",
    "        best: int = 5, \n",
    "        rare: int = 5,\n",
    "        randomChoice = False,\n",
    "        dateAttenuation = True\n",
    "    ):\n",
    "\n",
    "        attends = getAttends(userId)\n",
    "#         for a in attends:\n",
    "#             a['date'] = parseDate(a['date'])\n",
    "\n",
    "        metaVec = mm(userId)\n",
    "\n",
    "        probVecBest = self.recommendVectorBest(attends, dateAttenuation = dateAttenuation)\n",
    "        probVecRare = self.recommendVectorRare(attends, dateAttenuation = dateAttenuation)\n",
    "\n",
    "        for a in attends:\n",
    "            probVecBest[self.d3Id2Idx[a['d3LevelId']]] = 0\n",
    "            probVecRare[self.d3Id2Idx[a['d3LevelId']]] = 0\n",
    "\n",
    "\n",
    "        return probVecBest, probVecRare\n",
    "\n",
    "    def recommendFromVector(probVec, n: int = 5, randomChoice = False):\n",
    "\n",
    "        if randomChoice:\n",
    "            res = np.random.choice(list(range(probVec.shape[0])), n, p = probVec, replace = False)\n",
    "        else:\n",
    "            res = np.argsort(probVec)[::-1][:n]\n",
    "\n",
    "    #         def getSetProb(arr):\n",
    "\n",
    "    #         p = 1.0\n",
    "\n",
    "    #         for i in range(len(arr)):\n",
    "    #             for j in range(i + 1, len(arr)):\n",
    "    #                 p *= d3LevelCounts[arr[i]][arr[j]]\n",
    "\n",
    "    #         return p\n",
    "\n",
    "    #     if randomChoice:\n",
    "    #         reses = [\n",
    "    #             np.random.choice(list(range(probVec.shape[0])), n, p = probVec, replace = False)\n",
    "    #             for i in range(10)\n",
    "    #         ]\n",
    "\n",
    "    #         reses = [(r, getSetProb(r)) for r in reses]\n",
    "\n",
    "    #         res = sorted(reses, key = lambda x: x[1])[0][0]\n",
    "    #     else:\n",
    "    #         res = np.argsort(probDiff)[::-1][:n]\n",
    "\n",
    "        return list(res)\n",
    "\n",
    "    def recommendVectorBest(self, attends: list, dateAttenuation = False):\n",
    "\n",
    "        attends = sorted(attends, key = lambda x: x['date'])[::-1]\n",
    "\n",
    "        probVec = np.array([self.d3LevelCounts[self.d3Id2Idx[a['d3LevelId']]] for a in attends])\n",
    "\n",
    "        if dateAttenuation:\n",
    "            dateMult = []\n",
    "\n",
    "            m = 1\n",
    "            for i in range(0, len(attends)):\n",
    "                dateMult.append(m)\n",
    "                m *= DATE_ATTENUATION_PARAM\n",
    "        else:\n",
    "            dateMult = np.ones(len(attends))\n",
    "\n",
    "        probVec = probVec.transpose().dot(dateMult)\n",
    "        probVec /= np.sum(probVec)\n",
    "\n",
    "        return probVec\n",
    "\n",
    "    def recommendVectorRare(self, attends: list, dateAttenuation = False):\n",
    "\n",
    "        attends = sorted(attends, key = lambda x: x['date'])[::-1]\n",
    "\n",
    "        probVec = np.array([self.d3LevelCounts[self.d3Id2Idx[a['d3LevelId']]] for a in attends])\n",
    "\n",
    "        if dateAttenuation:\n",
    "            dateMult = []\n",
    "\n",
    "            m = 1\n",
    "            for i in range(0, len(attends)):\n",
    "                dateMult.append(m)\n",
    "                m *= DATE_ATTENUATION_PARAM\n",
    "        else:\n",
    "            dateMult = np.ones(len(attends))\n",
    "\n",
    "        probVec = probVec.transpose().dot(dateMult)\n",
    "        probVec /= np.sum(probVec)\n",
    "\n",
    "        probDiff = (probVec - probTotal)\n",
    "        probDiff[np.where(probDiff > 0)] = 0\n",
    "        probDiff = -probDiff\n",
    "        probDiff /= probDiff.sum()\n",
    "\n",
    "        return probDiff\n",
    "\n",
    "    def recommendForUserNew(self):\n",
    "        return None\n",
    "    \n",
    "    def save(self, modelPath):\n",
    "        try:\n",
    "            os.mkdir(modelPath)\n",
    "        except:\n",
    "            logging.exception('Unable to create folder for model')\n",
    "            \n",
    "        pkl.dump(self.d3LevelCounts, open(f'{modelPath}/d3LevelCounts.pkl', 'wb'))\n",
    "        pkl.dump(self.probTotal, open(f'{modelPath}/probTotal.pkl', 'wb'))\n",
    "        pkl.dump(self.d3Id2Idx, open(f'{modelPath}/d3Id2Idx.pkl', 'wb'))\n",
    "    \n",
    "modelMain = ModelMain(d3LevelCounts, probTotal, d3Id2Idx)"
   ]
  },
  {
   "cell_type": "code",
   "execution_count": 75,
   "metadata": {},
   "outputs": [],
   "source": [
    "def recommendFromVector(probVec, n: int = 5, randomChoice = False):\n",
    "\n",
    "    if randomChoice:\n",
    "        res = np.random.choice(list(range(probVec.shape[0])), n, p = probVec, replace = False)\n",
    "    else:\n",
    "        res = np.argsort(probVec)[::-1][:n]\n",
    "        \n",
    "    return list(res)"
   ]
  },
  {
   "cell_type": "code",
   "execution_count": 76,
   "metadata": {},
   "outputs": [],
   "source": [
    "probVecBest, probVecRare = modelMain.recomendForUser(101387513)\n",
    "metaVec = mm(101387513)"
   ]
  },
  {
   "cell_type": "code",
   "execution_count": 77,
   "metadata": {},
   "outputs": [],
   "source": [
    "recBest = recommendFromVector(multiplyProbVecs(probVecBest, metaVec))\n",
    "recRare = recommendFromVector(multiplyProbVecs(probVecRare, metaVec))"
   ]
  },
  {
   "cell_type": "code",
   "execution_count": 84,
   "metadata": {},
   "outputs": [],
   "source": [
    "d3Id2IdxReverse = {v : k for k, v in d3Id2Idx.items()}\n",
    "\n",
    "recBest = [d3Id2IdxReverse[r] for r in recBest]\n",
    "recRare = [d3Id2IdxReverse[r] for r in recRare]"
   ]
  },
  {
   "cell_type": "code",
   "execution_count": 88,
   "metadata": {},
   "outputs": [
    {
     "data": {
      "text/plain": [
       "{'_id': ObjectId('6470b3890ddba6d6eda3e5ae'),\n",
       " 'd0LevelName': 'Для ума',\n",
       " 'd1LevelId': 649,\n",
       " 'd1LevelName': 'Игры',\n",
       " 'd2LevelId': 651,\n",
       " 'd2LevelName': 'Интеллектуальные игры',\n",
       " 'd3LevelId': 1042,\n",
       " 'd3LevelName': 'ОНЛАЙН Английский язык',\n",
       " 'online': True,\n",
       " 'certificate': False,\n",
       " 'title': 'Занятия по изучению правил игр, основанных на применении интеллекта и эрудиции, а также участие в них.'}"
      ]
     },
     "execution_count": 88,
     "metadata": {},
     "output_type": "execute_result"
    }
   ],
   "source": []
  },
  {
   "cell_type": "code",
   "execution_count": 91,
   "metadata": {},
   "outputs": [
    {
     "name": "stdout",
     "output_type": "stream",
     "text": [
      "----Посещенные курсы----\n",
      "1154 ОНЛАЙН Английский язык\n",
      "----Рекомендованные курсы----\n",
      "1113 ОНЛАЙН Мастер-класс по уходу за кожей в зрелом возрасте\n",
      "1083 ОНЛАЙН Гимнастика\n",
      "1090 ОНЛАЙН Суставная гимнастика\n",
      "1421 ОНЛАЙН Краеведение и онлайн-экскурсии\n",
      "1162 ОНЛАЙН История искусства\n",
      "139 Скандинавская ходьба\n",
      "1113 ОНЛАЙН Мастер-класс по уходу за кожей в зрелом возрасте\n",
      "104 ОФП\n",
      "1083 ОНЛАЙН Гимнастика\n",
      "151 Настольный теннис\n"
     ]
    }
   ],
   "source": [
    "userId = 101387513\n",
    "\n",
    "print('----Посещенные курсы----')\n",
    "for i in set([a['d3LevelId'] for a in getAttends(userId)]):\n",
    "    print(i, db.activities.find_one({'d3LevelId': i})['d3LevelName'])\n",
    "\n",
    "print('----Рекомендованные курсы----')\n",
    "for i in recBest:\n",
    "    print(i, db.activities.find_one({'d3LevelId': int(i)})['d3LevelName'])\n",
    "    \n",
    "for i in recRare:\n",
    "    print(i, db.activities.find_one({'d3LevelId': int(i)})['d3LevelName'])"
   ]
  },
  {
   "cell_type": "code",
   "execution_count": 98,
   "metadata": {},
   "outputs": [
    {
     "data": {
      "text/plain": [
       "'userId_1'"
      ]
     },
     "execution_count": 98,
     "metadata": {},
     "output_type": "execute_result"
    }
   ],
   "source": [
    "db.attends.create_index([('userId', 1)])"
   ]
  },
  {
   "cell_type": "code",
   "execution_count": null,
   "metadata": {},
   "outputs": [],
   "source": []
  }
 ],
 "metadata": {
  "kernelspec": {
   "display_name": "Python 3 (ipykernel)",
   "language": "python",
   "name": "python3"
  },
  "language_info": {
   "codemirror_mode": {
    "name": "ipython",
    "version": 3
   },
   "file_extension": ".py",
   "mimetype": "text/x-python",
   "name": "python",
   "nbconvert_exporter": "python",
   "pygments_lexer": "ipython3",
   "version": "3.8.13"
  }
 },
 "nbformat": 4,
 "nbformat_minor": 4
}
