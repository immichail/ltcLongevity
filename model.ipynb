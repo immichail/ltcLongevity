{
 "cells": [
  {
   "cell_type": "code",
   "execution_count": 1,
   "metadata": {},
   "outputs": [],
   "source": [
    "import pandas as pd\n",
    "from tqdm import tqdm\n",
    "from collections import Counter\n",
    "import numpy as np\n",
    "import pickle as pkl\n",
    "import random\n",
    "from dateutil.parser import parse as parseDate\n",
    "from datetime import datetime\n",
    "import matplotlib.pyplot as plt\n",
    "\n",
    "DATE_ATTENUATION_PARAM = 0.9"
   ]
  },
  {
   "cell_type": "code",
   "execution_count": 2,
   "metadata": {},
   "outputs": [],
   "source": [
    "import pymongo\n",
    "\n",
    "db = pymongo.MongoClient()['ltcLongevity']"
   ]
  },
  {
   "cell_type": "code",
   "execution_count": 3,
   "metadata": {},
   "outputs": [],
   "source": [
    "df = pd.read_csv('./data/attendShort.csv')\n",
    "\n",
    "d2LevelNames = pkl.load(open('./data/d2LevelNames.pkl', 'rb'))\n",
    "d3LevelNames = pkl.load(open('./data/d3LevelNames.pkl', 'rb'))\n",
    "\n",
    "d2LevelNamesReverse = {v: k for k, v in d2LevelNames.items()}\n",
    "d3LevelNamesReverse = {v: k for k, v in d3LevelNames.items()}"
   ]
  },
  {
   "cell_type": "code",
   "execution_count": 4,
   "metadata": {},
   "outputs": [],
   "source": [
    "notNullUsers = df.groupby('userId').agg({'date': 'count'}).reset_index()\n",
    "notNullUsers = set(notNullUsers[notNullUsers['date'] > 10]['userId'])\n",
    "dfNN = df[df['userId'].isin(notNullUsers)]"
   ]
  },
  {
   "cell_type": "code",
   "execution_count": 5,
   "metadata": {},
   "outputs": [
    {
     "name": "stderr",
     "output_type": "stream",
     "text": [
      "100%|██████████| 453/453 [00:44<00:00, 10.18it/s]\n"
     ]
    }
   ],
   "source": [
    "d3LevelCounts = {}\n",
    "\n",
    "for k in tqdm(dfNN['d3LevelId'].unique()):\n",
    "    userIds = dfNN[dfNN['d3LevelId'] == k]['userId'].unique()\n",
    "    \n",
    "    dfNNItem = dfNN[(dfNN['userId'].isin(userIds))&(dfNN['d3LevelId'] != k)]\n",
    "    \n",
    "    d3LevelCounts[k] = dict(Counter(dfNNItem['d3LevelId']))\n",
    "    \n",
    "for k in d3LevelCounts:\n",
    "    s = sum(d3LevelCounts[k])\n",
    "    d3LevelCounts[k] = {kk : v / s for kk, v in d3LevelCounts[k].items()}\n",
    "    \n",
    "for k in d3LevelCounts:\n",
    "    \n",
    "    vec = np.zeros(max(d3LevelCounts) + 1)\n",
    "    for kk, v in d3LevelCounts[k].items():\n",
    "        vec[kk] = v\n",
    "        \n",
    "    d3LevelCounts[k] = vec"
   ]
  },
  {
   "cell_type": "code",
   "execution_count": 6,
   "metadata": {},
   "outputs": [],
   "source": [
    "dfNN = dfNN.sort_values('date')"
   ]
  },
  {
   "cell_type": "code",
   "execution_count": 7,
   "metadata": {},
   "outputs": [
    {
     "name": "stderr",
     "output_type": "stream",
     "text": [
      "100%|██████████| 48382/48382 [07:29<00:00, 107.52it/s]\n"
     ]
    }
   ],
   "source": [
    "d3LevelCounts = np.zeros((max(dfNN['d3LevelId'].unique()) + 1, max(dfNN['d3LevelId'].unique()) + 1))\n",
    "\n",
    "for userId in tqdm(dfNN['userId'].unique()):\n",
    "    \n",
    "    acts = list(dfNN[dfNN['userId'] == userId]['d3LevelId'])\n",
    "    \n",
    "    for a1 in range(len(acts)):\n",
    "        for a2 in range(a1 + 1, len(acts)):\n",
    "            d3LevelCounts[acts[a1], acts[a2]] += 1"
   ]
  },
  {
   "cell_type": "code",
   "execution_count": 8,
   "metadata": {},
   "outputs": [],
   "source": [
    "d3LevelCounts = {k: d3LevelCounts[k, :] for k in range(d3LevelCounts.shape[0])}"
   ]
  },
  {
   "cell_type": "code",
   "execution_count": 9,
   "metadata": {},
   "outputs": [],
   "source": [
    "d3LevelCounts = {k : v / v.sum() for k, v in d3LevelCounts.items()}"
   ]
  },
  {
   "cell_type": "code",
   "execution_count": 10,
   "metadata": {},
   "outputs": [],
   "source": [
    "probTotal = np.zeros(max(d3LevelCounts) + 1)\n",
    "\n",
    "for k, v in dict(df.groupby('d3LevelId').agg({'date': 'count'})['date']).items():\n",
    "    probTotal[k] = v\n",
    "    \n",
    "probTotal /= np.sum(probTotal)"
   ]
  },
  {
   "cell_type": "code",
   "execution_count": 11,
   "metadata": {},
   "outputs": [],
   "source": [
    "def getAttends(userId: str):\n",
    "    \n",
    "    recs = df[df['userId'] == userId].to_dict(orient = 'records')\n",
    "    \n",
    "    return [\n",
    "        {'d3LevelId': r['d3LevelId'], 'date': r['date']} for r in recs\n",
    "    ]"
   ]
  },
  {
   "cell_type": "code",
   "execution_count": 12,
   "metadata": {},
   "outputs": [],
   "source": [
    "# userId = 101387513\n",
    "# n = 5\n",
    "# randomChoice = True\n",
    "# dateAttenuation = False\n",
    "\n",
    "\n",
    "# attends = getAttends(userId)\n",
    "\n",
    "# for a in attends:\n",
    "#     a['date'] = parseDate(a['date'])\n",
    "\n",
    "# attends = sorted(attends, key = lambda x: x['date'])[::-1]\n",
    "\n",
    "# probVec = np.array([d3LevelCounts[a['d3LevelId']] for a in attends])\n",
    "\n",
    "# if dateAttenuation:\n",
    "#     dateMult = []\n",
    "\n",
    "#     m = 1\n",
    "#     for i in range(0, len(attends)):\n",
    "#         dateMult.append(m)\n",
    "#         m *= DATE_ATTENUATION_PARAM\n",
    "# else:\n",
    "#     dateMult = np.ones(len(attends))\n",
    "\n",
    "# probVec = probVec.transpose().dot(dateMult)\n",
    "# probVec /= np.sum(probVec)\n",
    "\n",
    "# probDiff = (probVec - probTotal)\n",
    "# probDiff[np.where(probDiff > 0)] = 0\n",
    "# probDiff = -probDiff\n",
    "# probDiff /= probDiff.sum()\n",
    "\n",
    "# def getSetProb(arr):\n",
    "    \n",
    "#     p = 1.0\n",
    "\n",
    "#     for i in range(len(arr)):\n",
    "#         for j in range(i + 1, len(arr)):\n",
    "#             p *= d3LevelCounts[arr[i]][arr[j]]\n",
    "            \n",
    "#     return p\n",
    "\n",
    "# if randomChoice:\n",
    "#     reses = [\n",
    "#         np.random.choice(list(range(probVec.shape[0])), n, p = probVec, replace = False)\n",
    "#         for i in range(10)\n",
    "#     ]\n",
    "    \n",
    "#     reses = [(r, getSetProb(r)) for r in reses]\n",
    "        \n",
    "#     res = sorted(reses, key = lambda x: x[1])[0][0]\n",
    "# else:\n",
    "#     res = np.argsort(probDiff)[::-1][:n]"
   ]
  },
  {
   "cell_type": "code",
   "execution_count": 13,
   "metadata": {},
   "outputs": [],
   "source": [
    "dfm = pd.DataFrame(db.usersV2.find({}, {'userId': 1, 'gender': 1, 'dateBirth': 1, '_id': False}))\n",
    "dfm['age'] = ((datetime(year = 2023, month = 1, day = 1) - dfm['dateBirth'])).apply(lambda x: x.days / 365.25)"
   ]
  },
  {
   "cell_type": "code",
   "execution_count": 15,
   "metadata": {},
   "outputs": [
    {
     "name": "stderr",
     "output_type": "stream",
     "text": [
      "100%|██████████| 52338/52338 [00:00<00:00, 419953.56it/s]\n"
     ]
    }
   ],
   "source": [
    "def ageClassFunction(user = None, userId = None):\n",
    "    if user is None:\n",
    "        user = db.usersV2.find_one({'userId': userId})\n",
    "    \n",
    "    age = (datetime.now() - user['dateBirth']).days / 365.25\n",
    "    if age < 60:\n",
    "        return '<60'\n",
    "    if age > 90:\n",
    "        return '>90'\n",
    "    return '%d-%d'%(age // 10  * 10, (age // 10 + 1)  * 10)\n",
    "        \n",
    "\n",
    "class ModelMeta:\n",
    "    \n",
    "    def __init__(self, db = None):\n",
    "        \n",
    "        self.db = db\n",
    "        \n",
    "        return None\n",
    "        \n",
    "    def fit(self, dfm, classFunction):\n",
    "        \n",
    "        self.classFunction = classFunction\n",
    "        \n",
    "        self.classes = set()\n",
    "\n",
    "        self.userClasses = {}\n",
    "        users = list(self.db.usersV2.find({}))\n",
    "        \n",
    "        for user in tqdm(users):\n",
    "            cls = self.classFunction(user = user)\n",
    "            self.classes.add(cls)\n",
    "            self.userClasses[user['userId']] = cls\n",
    "            \n",
    "        dfClasses = pd.DataFrame([{'userId': k, 'cls': v} for k, v in self.userClasses.items()])\n",
    "        dfClasses = df.merge(dfClasses, on = 'userId', how = 'inner')\n",
    "        dictClasses = dfClasses.groupby('cls').agg({'d3LevelId': list}).to_dict(orient = 'index')\n",
    "        \n",
    "        for k in dictClasses:\n",
    "            vec = np.zeros(max(d3LevelCounts) + 1)\n",
    "\n",
    "            for i in dictClasses[k]['d3LevelId']:\n",
    "                vec[i] += 1\n",
    "\n",
    "            dictClasses[k] = vec / np.sum(vec)\n",
    "            \n",
    "        self.dictClasses = dictClasses\n",
    "        \n",
    "        return None\n",
    "    \n",
    "    def __call__(self, userId: str):\n",
    "        cls = self.classFunction(userId = userId)\n",
    "        return self.dictClasses[cls]\n",
    "    \n",
    "mm = ModelMeta(db)\n",
    "mm.fit(dfm, ageClassFunction)"
   ]
  },
  {
   "cell_type": "code",
   "execution_count": 16,
   "metadata": {},
   "outputs": [],
   "source": [
    "def multiplyProbVecs(v1, v2):\n",
    "    vm = v2 / (1 - v2)\n",
    "    v1 *= vm\n",
    "    v1 = v1 / v1.sum()\n",
    "    return v1"
   ]
  },
  {
   "cell_type": "code",
   "execution_count": 17,
   "metadata": {},
   "outputs": [],
   "source": [
    "def recomendForUser(\n",
    "    userId: int, \n",
    "    best: int = 5, \n",
    "    rare: int = 5,\n",
    "    randomChoice = False,\n",
    "    dateAttenuation = True\n",
    "):\n",
    "    \n",
    "    attends = getAttends(userId)\n",
    "    for a in attends:\n",
    "        a['date'] = parseDate(a['date'])\n",
    "        \n",
    "    metaVec = mm(userId)\n",
    "    \n",
    "    probVecBest = recommendVectorBest(attends, dateAttenuation = dateAttenuation)\n",
    "    probVecRare = recommendVectorRare(attends, dateAttenuation = dateAttenuation)\n",
    "    \n",
    "#     print(metaVec)\n",
    "#     print(probVecBest)\n",
    "#     print(probVecRare)\n",
    "\n",
    "    for a in attends:\n",
    "        probVecBest[a['d3LevelId']] = 0\n",
    "        probVecRare[a['d3LevelId']] = 0\n",
    "\n",
    "    recBest = recommendFromVector(multiplyProbVecs(probVecBest, metaVec))\n",
    "    recRare = recommendFromVector(multiplyProbVecs(probVecRare, metaVec))\n",
    "    \n",
    "    return recBest + recRare\n",
    "\n",
    "def recommendFromVector(probVec, n: int = 5, randomChoice = False):\n",
    "    \n",
    "    if randomChoice:\n",
    "        res = np.random.choice(list(range(probVec.shape[0])), n, p = probVec, replace = False)\n",
    "    else:\n",
    "        res = np.argsort(probVec)[::-1][:n]\n",
    "        \n",
    "#         def getSetProb(arr):\n",
    "\n",
    "#         p = 1.0\n",
    "\n",
    "#         for i in range(len(arr)):\n",
    "#             for j in range(i + 1, len(arr)):\n",
    "#                 p *= d3LevelCounts[arr[i]][arr[j]]\n",
    "\n",
    "#         return p\n",
    "\n",
    "#     if randomChoice:\n",
    "#         reses = [\n",
    "#             np.random.choice(list(range(probVec.shape[0])), n, p = probVec, replace = False)\n",
    "#             for i in range(10)\n",
    "#         ]\n",
    "\n",
    "#         reses = [(r, getSetProb(r)) for r in reses]\n",
    "\n",
    "#         res = sorted(reses, key = lambda x: x[1])[0][0]\n",
    "#     else:\n",
    "#         res = np.argsort(probDiff)[::-1][:n]\n",
    "        \n",
    "    return list(res)\n",
    "\n",
    "def recommendVectorBest(attends: list, dateAttenuation = False):\n",
    "\n",
    "    attends = sorted(attends, key = lambda x: x['date'])[::-1]\n",
    "\n",
    "    probVec = np.array([d3LevelCounts[a['d3LevelId']] for a in attends])\n",
    "\n",
    "    if dateAttenuation:\n",
    "        dateMult = []\n",
    "\n",
    "        m = 1\n",
    "        for i in range(0, len(attends)):\n",
    "            dateMult.append(m)\n",
    "            m *= DATE_ATTENUATION_PARAM\n",
    "    else:\n",
    "        dateMult = np.ones(len(attends))\n",
    "\n",
    "    probVec = probVec.transpose().dot(dateMult)\n",
    "    probVec /= np.sum(probVec)\n",
    "\n",
    "    return probVec\n",
    "\n",
    "def recommendVectorRare(attends: list, dateAttenuation = False):\n",
    "    \n",
    "    attends = sorted(attends, key = lambda x: x['date'])[::-1]\n",
    "\n",
    "    probVec = np.array([d3LevelCounts[a['d3LevelId']] for a in attends])\n",
    "\n",
    "    if dateAttenuation:\n",
    "        dateMult = []\n",
    "\n",
    "        m = 1\n",
    "        for i in range(0, len(attends)):\n",
    "            dateMult.append(m)\n",
    "            m *= DATE_ATTENUATION_PARAM\n",
    "    else:\n",
    "        dateMult = np.ones(len(attends))\n",
    "\n",
    "    probVec = probVec.transpose().dot(dateMult)\n",
    "    probVec /= np.sum(probVec)\n",
    "\n",
    "    probDiff = (probVec - probTotal)\n",
    "    probDiff[np.where(probDiff > 0)] = 0\n",
    "    probDiff = -probDiff\n",
    "    probDiff /= probDiff.sum()\n",
    "    \n",
    "    return probDiff\n",
    "\n",
    "def recommendForUserNew():\n",
    "    return None"
   ]
  },
  {
   "cell_type": "code",
   "execution_count": 18,
   "metadata": {},
   "outputs": [
    {
     "name": "stdout",
     "output_type": "stream",
     "text": [
      "----Посещенные курсы----\n",
      "77 ОНЛАЙН Английский язык\n",
      "----Рекомендованные курсы----\n",
      "6 ОНЛАЙН Мастер-класс по уходу за кожей в зрелом возрасте\n",
      "16 ОНЛАЙН Гимнастика\n",
      "32 ОНЛАЙН Суставная гимнастика\n",
      "5 ОНЛАЙН Краеведение и онлайн-экскурсии\n",
      "73 ОНЛАЙН История искусства\n",
      "9 Скандинавская ходьба\n",
      "6 ОНЛАЙН Мастер-класс по уходу за кожей в зрелом возрасте\n",
      "3 ОФП\n",
      "16 ОНЛАЙН Гимнастика\n",
      "79 Настольный теннис\n"
     ]
    }
   ],
   "source": [
    "userId = 101387513\n",
    "\n",
    "print('----Посещенные курсы----')\n",
    "for i in set([a['d3LevelId'] for a in getAttends(userId)]):\n",
    "    print(i, d3LevelNamesReverse[i])\n",
    "\n",
    "print('----Рекомендованные курсы----')\n",
    "for i in recomendForUser(101387513):\n",
    "    print(i, d3LevelNamesReverse[i])"
   ]
  },
  {
   "cell_type": "code",
   "execution_count": null,
   "metadata": {},
   "outputs": [],
   "source": []
  }
 ],
 "metadata": {
  "kernelspec": {
   "display_name": "Python 3 (ipykernel)",
   "language": "python",
   "name": "python3"
  },
  "language_info": {
   "codemirror_mode": {
    "name": "ipython",
    "version": 3
   },
   "file_extension": ".py",
   "mimetype": "text/x-python",
   "name": "python",
   "nbconvert_exporter": "python",
   "pygments_lexer": "ipython3",
   "version": "3.8.13"
  }
 },
 "nbformat": 4,
 "nbformat_minor": 4
}
